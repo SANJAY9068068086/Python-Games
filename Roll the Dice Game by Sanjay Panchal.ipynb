{
 "cells": [
  {
   "cell_type": "markdown",
   "id": "8e8cd1ec",
   "metadata": {},
   "source": [
    "## Roll the Dice Game by Sanjay Panchal"
   ]
  },
  {
   "cell_type": "code",
   "execution_count": 25,
   "id": "2f079bc5",
   "metadata": {},
   "outputs": [
    {
     "name": "stdout",
     "output_type": "stream",
     "text": [
      "***********************************\n",
      "Welcome to the 'Roll the Dice' Game\n",
      "***********************************\n",
      "\n",
      "Roll the Dice (Y/N) : f\n",
      "\n",
      "Wrong Input XXX!!!\n",
      "----------------------- \n",
      "You Quited !!!\n",
      "Thanks for playing !!!\n",
      "-----------------------\n",
      "\n",
      "-------------\n",
      "It's Tie !!!\n",
      "-------------\n"
     ]
    }
   ],
   "source": [
    "import random\n",
    "\n",
    "def roll_dice():\n",
    "    return random.randint(1,6)\n",
    "\n",
    "def Dice_Game():\n",
    "    print(\"*\"*35,\"\\nWelcome to the 'Roll the Dice' Game\\n\",\"*\"*35, sep=\"\")\n",
    "    player=0\n",
    "    computer=0\n",
    "    while True:\n",
    "        n = input(\"\\nRoll the Dice (Y/N) : \").upper()\n",
    "        print(\"\")\n",
    "        if n=='Y':\n",
    "            player_roll = roll_dice()\n",
    "            print(\"You Rolled : \",player_roll)\n",
    "            if player_roll==1:\n",
    "                print(\"-\"*30,\"\\nYou Rolled 1, Game Over !!!\\n\",\"-\"*30,sep=\"\")\n",
    "                break\n",
    "            else:\n",
    "                player = player + player_roll\n",
    "                print(\"Your Score is : \",player)\n",
    "        elif n=='N':\n",
    "            print(\"-\"*23,\"\\nYou Quited !\")\n",
    "            print(\"Thanks for playing !!!\\n\",\"-\"*23,sep=\"\")\n",
    "            break\n",
    "        else:\n",
    "            print(\"Wrong Input XXX!!!\")\n",
    "            print(\"-\"*23,\"\\nYou Quited !!!\")\n",
    "            print(\"Thanks for playing !!!\\n\",\"-\"*23,sep=\"\")\n",
    "            break\n",
    "        computer_roll = roll_dice()\n",
    "        print(\"\\nComputer Rolled : \",computer_roll)\n",
    "        if computer_roll == 1:\n",
    "            print(\"-\"*35,\"\\nComputer Rolled 1, Game Over !!!\\n\",\"-\"*35,sep=\"\")\n",
    "            break\n",
    "        else:\n",
    "            computer = computer + computer_roll\n",
    "            print(\"Computer Score is : \",computer)\n",
    "            \n",
    "        if player > computer:\n",
    "            print(\"-\"*41,\"\\nYou are in winning condition by \",player-computer,\" points.\\n\",\"-\"*41,sep=\"\")\n",
    "        elif player < computer:\n",
    "            print(\"-\"*43,\"\\nYou are in Loosing condition by \",player-computer,\" points.\\n\",\"-\"*43,sep=\"\")\n",
    "        else:\n",
    "            print(\"-\"*50,\"\\nYou both are in Tie Condition as scores are equal.\\n\",\"-\"*50,sep=\"\")\n",
    "            \n",
    "    if player > computer:\n",
    "        print(\"\\n\",\"-\"*23,\"\\nYou Won by \",player-computer,\" points!!!\\n\",\"-\"*23,sep=\"\")\n",
    "    elif computer > player:\n",
    "        print(\"\\n\",\"-\"*30,\"\\nComputer Won by \",computer-player,\" points!!!\\n\",\"-\"*30,sep=\"\")\n",
    "    else:\n",
    "        print(\"\\n\",\"-\"*13,\"\\nIt's Tie !!!\\n\",\"-\"*13,sep=\"\")\n",
    "\n",
    "Dice_Game()"
   ]
  },
  {
   "cell_type": "code",
   "execution_count": 26,
   "id": "ec699862",
   "metadata": {},
   "outputs": [
    {
     "name": "stdout",
     "output_type": "stream",
     "text": [
      "***********************************\n",
      "Welcome to the 'Roll the Dice' Game\n",
      "***********************************\n",
      "\n",
      "Roll the Dice (Y/N) : y\n",
      "\n",
      "You Rolled :  2\n",
      "Your Score is :  2\n",
      "\n",
      "Computer Rolled :  1\n",
      "-----------------------------------\n",
      "Computer Rolled 1, Game Over !!!\n",
      "-----------------------------------\n",
      "\n",
      "-----------------------\n",
      "You Won by 2 points!!!\n",
      "-----------------------\n"
     ]
    }
   ],
   "source": [
    "import sys\n",
    "sys.path.insert(0,r'C:\\Users\\SanjayPanchal\\OneDrive - Auto Motive Power\\My Documents')\n",
    "import roll_the_dice\n",
    "roll_the_dice.Dice_Game()"
   ]
  },
  {
   "cell_type": "code",
   "execution_count": null,
   "id": "d643342e",
   "metadata": {},
   "outputs": [],
   "source": []
  }
 ],
 "metadata": {
  "kernelspec": {
   "display_name": "Python 3 (ipykernel)",
   "language": "python",
   "name": "python3"
  },
  "language_info": {
   "codemirror_mode": {
    "name": "ipython",
    "version": 3
   },
   "file_extension": ".py",
   "mimetype": "text/x-python",
   "name": "python",
   "nbconvert_exporter": "python",
   "pygments_lexer": "ipython3",
   "version": "3.9.13"
  }
 },
 "nbformat": 4,
 "nbformat_minor": 5
}
